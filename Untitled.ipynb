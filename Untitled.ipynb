{
 "cells": [
  {
   "cell_type": "markdown",
   "metadata": {},
   "source": [
    "\n",
    "## RANDY\n",
    "\n",
    "\n",
    "Author: PVH\n",
    "Date Created: Feb. 15th, 2018\n",
    "\n",
    "\n",
    "### Description\n",
    "\n",
    "This notebook is intended to demonstrate the capabilities of RANDY to help organize experiments\n",
    "\n",
    "\n",
    "\n",
    "#### Let's start with something simple, let's load some classes corresponding to samples."
   ]
  },
  {
   "cell_type": "code",
   "execution_count": 8,
   "metadata": {},
   "outputs": [
    {
     "name": "stdout",
     "output_type": "stream",
     "text": [
      "Complete!\n"
     ]
    }
   ],
   "source": [
    "# homegrown libraries\n",
    "from sample.sample import Sample\n",
    "from sample.matter import Matter\n",
    "from sample.sequence import Sequence\n",
    "from sample.cell import Cell\n",
    "from sample.solute import Solute\n",
    "from sample.solution import Solution\n",
    "from sample.buffer import Buffer\n",
    "\n",
    "print 'Complete!'"
   ]
  },
  {
   "cell_type": "markdown",
   "metadata": {},
   "source": [
    "Each of these modules correspond to different objects that you can interact with throughout experiments.\n",
    "\n",
    "### Making a buffer by hand\n",
    "\n",
    "First, let's make a solution- something simple like elution buffer. To initialize each of these elements, just enter the object name, with arguments for its name, and anything else you might find important:"
   ]
  },
  {
   "cell_type": "code",
   "execution_count": 9,
   "metadata": {},
   "outputs": [
    {
     "name": "stdout",
     "output_type": "stream",
     "text": [
      "          -- Sample object --           \n",
      "            Name: Buffer EB             \n",
      "                Owner:                  \n",
      "              Container:                \n",
      "                                        \n",
      "               Contents:                \n",
      "----------------------------------------\n",
      "            Solute(Tris-Cl)             \n",
      "             Solution(dH2O)             \n"
     ]
    }
   ],
   "source": [
    "# initialize a solute and a solution (Tris)\n",
    "solute   = Solute(name='Tris-Cl',concentration='100 mM')\n",
    "solution = Solution(name='dH2O',volume='500 mL')\n",
    "\n",
    "# mix the two together to make a buffer\n",
    "my_buffer = solute + solution\n",
    "\n",
    "# label the buffer\n",
    "my_buffer.name = 'Buffer EB'\n",
    "\n",
    "# print out object\n",
    "print my_buffer"
   ]
  },
  {
   "cell_type": "markdown",
   "metadata": {},
   "source": [
    "Well, this might get pretty tedious if everytime we want to create buffers or mixtures we have to list all the inputs. Is there a better way to do this?\n",
    "\n",
    "### Cloud-based database\n",
    "\n",
    "Absolutely. The system here has been designed to have a central repository in a lab based in the cloud (specific, Google Drive). To load one of these, make a new database object:"
   ]
  },
  {
   "cell_type": "code",
   "execution_count": 1,
   "metadata": {},
   "outputs": [
    {
     "name": "stdout",
     "output_type": "stream",
     "text": [
      "Database loaded!\n",
      "Database - sequences sync'ed (0 updated, 0 added, 2 total)\n",
      "Database - cells sync'ed (0 updated, 0 added, 1 total)\n",
      "Database - solutions sync'ed (0 updated, 0 added, 2 total)\n",
      "Database - solutes sync'ed (0 updated, 0 added, 1 total)\n",
      "Database - buffers sync'ed (1 updated, 0 added, 2 total)\n",
      "Database - elements sync'ed (0 updated, 0 added, 0 total)\n"
     ]
    }
   ],
   "source": [
    "# import the database module\n",
    "from database.database import Database\n",
    "\n",
    "db = Database() # create a database object, loaded with local data\n",
    "db.sync_local() # sync local files with the cloud data\n"
   ]
  },
  {
   "cell_type": "markdown",
   "metadata": {},
   "source": [
    "#### Cool! Now let's make elution buffer in a much quicker way:"
   ]
  },
  {
   "cell_type": "code",
   "execution_count": 10,
   "metadata": {},
   "outputs": [
    {
     "name": "stdout",
     "output_type": "stream",
     "text": [
      "          -- Buffer object --           \n",
      "            Name: Buffer EB             \n",
      "                Owner:                  \n",
      "           Instructions: mix            \n",
      "Reagents: [{'volume': '500 mL', 'name': 'dH2O'}, {'concentration': '10 mM', 'name': 'Tris-Cl'}]\n",
      "Contents: (Solution(dH2O),Solute(Tris-Cl))\n"
     ]
    }
   ],
   "source": [
    "# load buffer EB from the database\n",
    "buffer  = db.load('Buffer EB')\n",
    "\n",
    "# print out object\n",
    "print buffer"
   ]
  },
  {
   "cell_type": "markdown",
   "metadata": {},
   "source": [
    "Wait- this looks a little different? It's ok. For the purpose of brevity, you can call objects as buffers instead of solutes and solutions all day. Don't believe me? Make some cells and add them to the solution:"
   ]
  },
  {
   "cell_type": "code",
   "execution_count": 13,
   "metadata": {},
   "outputs": [
    {
     "name": "stdout",
     "output_type": "stream",
     "text": [
      "          -- Sample object --           \n",
      "     Name: Cells in elution buffer      \n",
      "                Owner:                  \n",
      "              Container:                \n",
      "                                        \n",
      "               Contents:                \n",
      "----------------------------------------\n",
      "           Buffer(Buffer EB)            \n",
      "               Cell(DH5a)               \n"
     ]
    }
   ],
   "source": [
    "# make a cell object\n",
    "cells = Cell(name='DH5a',species='E.Coli')\n",
    "sample_w_buffer = buffer + cells\n",
    "\n",
    "# label the buffer\n",
    "sample_w_buffer.name = 'Cells in elution buffer'\n",
    "\n",
    "# print out object\n",
    "print sample_w_buffer"
   ]
  },
  {
   "cell_type": "markdown",
   "metadata": {},
   "source": [
    "That looks much cleaner.\n",
    "\n",
    "### Adjusting volumes\n",
    "\n",
    "You may have noticed that the buffer has a default volume. Well, this is what the recipe dictates, but it can change depending on what you want to do. You can either set it directly, or"
   ]
  },
  {
   "cell_type": "code",
   "execution_count": null,
   "metadata": {},
   "outputs": [],
   "source": []
  }
 ],
 "metadata": {
  "kernelspec": {
   "display_name": "Python 2",
   "language": "python",
   "name": "python2"
  },
  "language_info": {
   "codemirror_mode": {
    "name": "ipython",
    "version": 2
   },
   "file_extension": ".py",
   "mimetype": "text/x-python",
   "name": "python",
   "nbconvert_exporter": "python",
   "pygments_lexer": "ipython2",
   "version": "2.7.14"
  }
 },
 "nbformat": 4,
 "nbformat_minor": 2
}
