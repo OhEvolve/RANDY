{
 "cells": [
  {
   "cell_type": "markdown",
   "metadata": {},
   "source": [
    "\n",
    "# RANDY\n",
    "\n",
    "\n",
    "Author: PVH\n",
    "Date Created: Feb. 15th, 2018\n",
    "\n",
    "\n",
    "### Description\n",
    "\n",
    "This notebook is intended to demonstrate the capabilities of RANDY to help organize experiments\n",
    "\n",
    "\n",
    "\n",
    "#### Let's start with something simple, let's load some classes corresponding to samples."
   ]
  },
  {
   "cell_type": "code",
   "execution_count": 1,
   "metadata": {},
   "outputs": [
    {
     "name": "stdout",
     "output_type": "stream",
     "text": [
      "Complete!\n"
     ]
    }
   ],
   "source": [
    "# homegrown libraries\n",
    "from sample.sample import Sample\n",
    "from sample.matter import Matter\n",
    "from sample.sequence import Sequence\n",
    "from sample.cell import Cell\n",
    "from sample.solute import Solute\n",
    "from sample.solution import Solution\n",
    "from sample.buffer import Buffer\n",
    "\n",
    "print 'Complete!'"
   ]
  },
  {
   "cell_type": "markdown",
   "metadata": {},
   "source": [
    "Each of these modules correspond to different objects that you can interact with throughout experiments.\n",
    "\n",
    "### Making a buffer by hand\n",
    "\n",
    "First, let's make a solution- something simple like elution buffer. To initialize each of these elements, just enter the object name, with arguments for its name, and anything else you might find important:"
   ]
  },
  {
   "cell_type": "code",
   "execution_count": 2,
   "metadata": {},
   "outputs": [
    {
     "name": "stdout",
     "output_type": "stream",
     "text": [
      "          -- Sample object --           \n",
      "            Name: Buffer EB             \n",
      "                Owner:                  \n",
      "             Volume: 0.5 L              \n",
      "              Container:                \n",
      "                                        \n",
      "               Contents:                \n",
      "----------------------------------------\n",
      "            Solute(Tris-Cl)             \n",
      "             Solution(dH2O)             \n"
     ]
    }
   ],
   "source": [
    "# initialize a solute and a solution (Tris)\n",
    "solute   = Solute(name='Tris-Cl',concentration='100 mM')\n",
    "solution = Solution(name='dH2O',volume='500 mL')\n",
    "\n",
    "# mix the two together to make a buffer\n",
    "my_buffer = solute + solution\n",
    "\n",
    "# label the buffer\n",
    "my_buffer.name = 'Buffer EB'\n",
    "\n",
    "# print out object\n",
    "print my_buffer"
   ]
  },
  {
   "cell_type": "markdown",
   "metadata": {},
   "source": [
    "Well, this might get pretty tedious if everytime we want to create buffers or mixtures we have to list all the inputs. Is there a better way to do this?\n",
    "\n",
    "### Cloud-based database\n",
    "\n",
    "Absolutely. The system here has been designed to have a central repository in a lab based in the cloud (specific, Google Drive). To load one of these, make a new database object:"
   ]
  },
  {
   "cell_type": "code",
   "execution_count": 3,
   "metadata": {},
   "outputs": [
    {
     "name": "stdout",
     "output_type": "stream",
     "text": [
      "Database loaded!\n",
      "Database - sequences sync'ed (0 updated, 0 added, 2 total)\n",
      "Database - cells sync'ed (0 updated, 0 added, 1 total)\n",
      "Database - solutions sync'ed (0 updated, 0 added, 2 total)\n",
      "Database - solutes sync'ed (0 updated, 0 added, 1 total)\n",
      "Database - buffers sync'ed (1 updated, 0 added, 2 total)\n",
      "Database - elements sync'ed (0 updated, 0 added, 0 total)\n"
     ]
    }
   ],
   "source": [
    "# import the database module\n",
    "from database.database import Database\n",
    "\n",
    "db = Database() # create a database object, loaded with local data\n",
    "db.sync_local() # sync local files with the cloud data\n"
   ]
  },
  {
   "cell_type": "markdown",
   "metadata": {},
   "source": [
    "#### Cool! Now let's make elution buffer in a much quicker way:"
   ]
  },
  {
   "cell_type": "code",
   "execution_count": 4,
   "metadata": {},
   "outputs": [
    {
     "name": "stdout",
     "output_type": "stream",
     "text": [
      "          -- Buffer object --           \n",
      "            Name: Buffer EB             \n",
      "                Owner:                  \n",
      "             Volume: 0.5 L              \n",
      "           Instructions: mix            \n",
      "Contents: (Solution(dH2O),Solute(Tris-Cl))\n"
     ]
    }
   ],
   "source": [
    "# load buffer EB from the database\n",
    "buffer1  = db.load('Buffer EB')\n",
    "\n",
    "# print out object\n",
    "print buffer1"
   ]
  },
  {
   "cell_type": "markdown",
   "metadata": {},
   "source": [
    "Wait- this looks a little different? It's ok. For the purpose of brevity, you can call objects as buffers instead of solutes and solutions all day. Don't believe me? Make some cells and add them to the solution:"
   ]
  },
  {
   "cell_type": "code",
   "execution_count": 5,
   "metadata": {},
   "outputs": [
    {
     "name": "stdout",
     "output_type": "stream",
     "text": [
      "          -- Sample object --           \n",
      "     Name: Cells in elution buffer      \n",
      "                Owner:                  \n",
      "             Volume: 0.5 L              \n",
      "              Container:                \n",
      "                                        \n",
      "               Contents:                \n",
      "----------------------------------------\n",
      "           Buffer(Buffer EB)            \n",
      "               Cell(DH5a)               \n",
      "Component 1:\n",
      "          -- Buffer object --           \n",
      "            Name: Buffer EB             \n",
      "                Owner:                  \n",
      "             Volume: 0.5 L              \n",
      "           Instructions: mix            \n",
      "Contents: (Solution(dH2O),Solute(Tris-Cl))\n",
      "Component 2:\n",
      "           -- Cell object --            \n",
      "               Name: DH5a               \n",
      "                Owner:                  \n",
      "            Species: E.Coli             \n",
      "            Count: 1000000.0            \n"
     ]
    }
   ],
   "source": [
    "# make a cell object\n",
    "cells = Cell(name='DH5a',species='E.Coli',count=1e6)\n",
    "sample_w_buffer = buffer1 + cells\n",
    "\n",
    "# label the buffer\n",
    "sample_w_buffer.name = 'Cells in elution buffer'\n",
    "\n",
    "# print out object\n",
    "print sample_w_buffer\n",
    "sample_w_buffer.display_contents()"
   ]
  },
  {
   "cell_type": "markdown",
   "metadata": {},
   "source": [
    "That looks much cleaner.\n",
    "\n",
    "### Adjusting volumes\n",
    "\n",
    "You may have noticed that the buffer has a default volume. Well, this is what the recipe dictates, but it can change depending on what you want to do. Here, we result the sample volume:"
   ]
  },
  {
   "cell_type": "code",
   "execution_count": 6,
   "metadata": {},
   "outputs": [
    {
     "name": "stdout",
     "output_type": "stream",
     "text": [
      "Component 1:\n",
      "          -- Buffer object --           \n",
      "            Name: Buffer EB             \n",
      "                Owner:                  \n",
      "            Volume: 100.0 mL            \n",
      "           Instructions: mix            \n",
      "Contents: (Solution(dH2O),Solute(Tris-Cl))\n",
      "Component 2:\n",
      "           -- Cell object --            \n",
      "               Name: DH5a               \n",
      "                Owner:                  \n",
      "            Species: E.Coli             \n",
      "            Count: 200000.0             \n"
     ]
    }
   ],
   "source": [
    "sample_w_buffer.volume = '100 mL'\n",
    "sample_w_buffer.display_contents()"
   ]
  },
  {
   "cell_type": "markdown",
   "metadata": {},
   "source": [
    "## Making sequence objects\n",
    "\n",
    "So far, we have only talked about basic buffers and cells. What if we have something more complicated, such as DNA sequences? We can instance those aswell:"
   ]
  },
  {
   "cell_type": "code",
   "execution_count": 7,
   "metadata": {},
   "outputs": [
    {
     "name": "stdout",
     "output_type": "stream",
     "text": [
      "Component 1:\n",
      "         -- Sequence object --          \n",
      "            Name: MyPlasmid             \n",
      "                Owner:                  \n",
      "  Molecular_weight: 12.3948926 kg/mol   \n",
      "              Mass: 1.0 ug              \n",
      "       Moles: 80.6783916788 pmol        \n",
      "        Concentration: 20.0 mg/L        \n",
      "     Molarity: 1.61356783358 umol/L     \n",
      "            Material: dsDNA             \n",
      "         Total_volume: 50.0 uL          \n",
      "\n",
      "               Sequence:                \n",
      "1         11        \n",
      "ATCGGAGACTAGGCCATAGC\n",
      "\n",
      "Component 2:\n",
      "          -- Buffer object --           \n",
      "            Name: Buffer EB             \n",
      "                Owner:                  \n",
      "            Volume: 50.0 uL             \n",
      "           Instructions: mix            \n",
      "Contents: (Solution(dH2O),Solute(Tris-Cl))\n"
     ]
    }
   ],
   "source": [
    "plasmid = Sequence(name='MyPlasmid',mass='1 ug',sequence='ATCGGAGACTAGGCCATAGC',material='dsDNA')\n",
    "buffer1  = db.load('Buffer EB',volume='50 uL')\n",
    "\n",
    "sample = plasmid + buffer1\n",
    "sample.display_contents()"
   ]
  },
  {
   "cell_type": "code",
   "execution_count": null,
   "metadata": {},
   "outputs": [],
   "source": []
  }
 ],
 "metadata": {
  "kernelspec": {
   "display_name": "Python 3",
   "language": "python",
   "name": "python3"
  },
  "language_info": {
   "codemirror_mode": {
    "name": "ipython",
    "version": 2
   },
   "file_extension": ".py",
   "mimetype": "text/x-python",
   "name": "python",
   "nbconvert_exporter": "python",
   "pygments_lexer": "ipython2",
   "version": "2.7.12"
  }
 },
 "nbformat": 4,
 "nbformat_minor": 2
}
